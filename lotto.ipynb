{
 "cells": [
  {
   "cell_type": "code",
   "execution_count": 151,
   "metadata": {
    "collapsed": true
   },
   "outputs": [],
   "source": [
    "ratio = 1/10000000\n",
    "env = {\n",
    "    'getit' : {\n",
    "        'buy' : {\"getit\": ratio,\n",
    "                 \"just_go\" : 1-ratio},\n",
    "        'no_buy' : {\"getit\": 0,\n",
    "                 \"just_go\" : 1.}\n",
    "    },\n",
    "    'just_go' : {\n",
    "        'buy' : {\"getit\": ratio,\n",
    "                 \"just_go\" : 1-ratio},\n",
    "        'no_buy' : {\"getit\": 0,\n",
    "                 \"just_go\" : 1.}\n",
    "    }\n",
    "}"
   ]
  },
  {
   "cell_type": "code",
   "execution_count": 152,
   "metadata": {
    "collapsed": true
   },
   "outputs": [],
   "source": [
    "lotto_price = 100000000\n",
    "lotto_buy = 1000\n",
    "init_rewards = {\n",
    "    \"getit\": lotto_price,\n",
    "    \"just_go\": lotto_buy\n",
    "}"
   ]
  },
  {
   "cell_type": "code",
   "execution_count": 190,
   "metadata": {
    "collapsed": true
   },
   "outputs": [],
   "source": [
    "from Environment.Model import MarkovDecisionProcess, util_2DtoMDP"
   ]
  },
  {
   "cell_type": "code",
   "execution_count": 191,
   "metadata": {
    "collapsed": true
   },
   "outputs": [],
   "source": [
    "model = MarkovDecisionProcess(env=env,rewards=init_rewards)"
   ]
  },
  {
   "cell_type": "code",
   "execution_count": 192,
   "metadata": {
    "collapsed": true
   },
   "outputs": [],
   "source": [
    "from Agent.DecisionMaker import DecisionMaker"
   ]
  },
  {
   "cell_type": "code",
   "execution_count": 193,
   "metadata": {
    "collapsed": true
   },
   "outputs": [],
   "source": [
    "dm = DecisionMaker(model)"
   ]
  },
  {
   "cell_type": "code",
   "execution_count": 194,
   "metadata": {},
   "outputs": [
    {
     "data": {
      "text/plain": [
       "({'getit': 100009089.99909922, 'just_go': 10089.99909922033},\n",
       " {'getit': 'buy', 'just_go': 'buy'})"
      ]
     },
     "execution_count": 194,
     "metadata": {},
     "output_type": "execute_result"
    }
   ],
   "source": [
    "dm.ValueIteration(discount=0.9,threshold=0.0000001)"
   ]
  },
  {
   "cell_type": "code",
   "execution_count": 195,
   "metadata": {},
   "outputs": [],
   "source": [
    "Q,U,policy = dm.QLearning(initial_state='just_go', discount=0.1, Ne=5, Rplus=2, epoch=99999)"
   ]
  },
  {
   "cell_type": "code",
   "execution_count": 196,
   "metadata": {},
   "outputs": [
    {
     "data": {
      "text/plain": [
       "defaultdict(float,\n",
       "            {('just_go', 'buy'): 0.0,\n",
       "             ('just_go', 'no_buy'): 1111.074177605612})"
      ]
     },
     "execution_count": 196,
     "metadata": {},
     "output_type": "execute_result"
    }
   ],
   "source": [
    "Q"
   ]
  },
  {
   "cell_type": "code",
   "execution_count": 197,
   "metadata": {},
   "outputs": [
    {
     "data": {
      "text/plain": [
       "defaultdict(<function Agent.DecisionMaker.DecisionMaker.QLearning.<locals>.<lambda>>,\n",
       "            {'getit': -1000.0, 'just_go': 1111.074177605612})"
      ]
     },
     "execution_count": 197,
     "metadata": {},
     "output_type": "execute_result"
    }
   ],
   "source": [
    "U"
   ]
  },
  {
   "cell_type": "code",
   "execution_count": 198,
   "metadata": {},
   "outputs": [
    {
     "data": {
      "text/plain": [
       "{'getit': 'buy', 'just_go': 'buy'}"
      ]
     },
     "execution_count": 198,
     "metadata": {},
     "output_type": "execute_result"
    }
   ],
   "source": [
    "policy"
   ]
  }
 ],
 "metadata": {
  "kernelspec": {
   "display_name": "ml_py35",
   "language": "python",
   "name": "ml_py35"
  },
  "language_info": {
   "codemirror_mode": {
    "name": "ipython",
    "version": 3
   },
   "file_extension": ".py",
   "mimetype": "text/x-python",
   "name": "python",
   "nbconvert_exporter": "python",
   "pygments_lexer": "ipython3",
   "version": "3.5.4"
  }
 },
 "nbformat": 4,
 "nbformat_minor": 2
}
