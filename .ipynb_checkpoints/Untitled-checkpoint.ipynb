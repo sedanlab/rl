{
 "cells": [
  {
   "cell_type": "markdown",
   "metadata": {},
   "source": [
    "# Load Env"
   ]
  },
  {
   "cell_type": "code",
   "execution_count": 1,
   "metadata": {
    "collapsed": true
   },
   "outputs": [],
   "source": [
    "from Environment.Model import MarkovDecisionProcess, util_2DtoMDP"
   ]
  },
  {
   "cell_type": "code",
   "execution_count": 2,
   "metadata": {
    "collapsed": true
   },
   "outputs": [],
   "source": [
    "env = {\n",
    "    \"A\": {\n",
    "        \"X\": {\"A\":0.3, \"B\":0.7},\n",
    "        \"Y\": {\"A\":1.0}\n",
    "    },\n",
    "    \"B\": {\n",
    "        \"X\": {\"End\":0.8, \"B\":0.2},\n",
    "        \"Y\": {\"A\":1.0}\n",
    "    },\n",
    "    \"End\": {}\n",
    "}\n",
    "\n",
    "init_rewards = {\n",
    "    \"A\": 1,\n",
    "    \"B\": 0.6,\n",
    "    \"End\": 100\n",
    "}"
   ]
  },
  {
   "cell_type": "code",
   "execution_count": 3,
   "metadata": {
    "collapsed": true
   },
   "outputs": [],
   "source": [
    "model = MarkovDecisionProcess(env=env,rewards=init_rewards)"
   ]
  },
  {
   "cell_type": "code",
   "execution_count": 5,
   "metadata": {},
   "outputs": [
    {
     "data": {
      "text/plain": [
       "[(0.7, 'B'), (0.3, 'A')]"
      ]
     },
     "execution_count": 5,
     "metadata": {},
     "output_type": "execute_result"
    }
   ],
   "source": [
    "model.get_transition('A','X')"
   ]
  },
  {
   "cell_type": "code",
   "execution_count": 6,
   "metadata": {},
   "outputs": [
    {
     "data": {
      "text/plain": [
       "['B', 'End', 'A']"
      ]
     },
     "execution_count": 6,
     "metadata": {},
     "output_type": "execute_result"
    }
   ],
   "source": [
    "model.states"
   ]
  },
  {
   "cell_type": "code",
   "execution_count": 7,
   "metadata": {},
   "outputs": [
    {
     "data": {
      "text/plain": [
       "1"
      ]
     },
     "execution_count": 7,
     "metadata": {},
     "output_type": "execute_result"
    }
   ],
   "source": [
    "model.get_reward('A')"
   ]
  },
  {
   "cell_type": "code",
   "execution_count": 12,
   "metadata": {},
   "outputs": [
    {
     "data": {
      "text/plain": [
       "[None]"
      ]
     },
     "execution_count": 12,
     "metadata": {},
     "output_type": "execute_result"
    }
   ],
   "source": [
    "model.get_actions('End')"
   ]
  },
  {
   "cell_type": "code",
   "execution_count": 13,
   "metadata": {},
   "outputs": [
    {
     "data": {
      "text/plain": [
       "['End']"
      ]
     },
     "execution_count": 13,
     "metadata": {},
     "output_type": "execute_result"
    }
   ],
   "source": [
    "model.terminals"
   ]
  },
  {
   "cell_type": "code",
   "execution_count": 14,
   "metadata": {},
   "outputs": [],
   "source": [
    "matrix = [\n",
    "    [-0.1,-0.1,-0.1,-0.1],\n",
    "    [-0.1,-0.1,-0.1,-0.1],\n",
    "    [-1,-0.1,-0.1,1]\n",
    "]"
   ]
  },
  {
   "cell_type": "code",
   "execution_count": 15,
   "metadata": {
    "collapsed": true
   },
   "outputs": [],
   "source": [
    "import numpy as np"
   ]
  },
  {
   "cell_type": "code",
   "execution_count": 16,
   "metadata": {
    "collapsed": true
   },
   "outputs": [],
   "source": [
    "mm = np.asarray(matrix)"
   ]
  },
  {
   "cell_type": "code",
   "execution_count": 17,
   "metadata": {},
   "outputs": [
    {
     "data": {
      "text/plain": [
       "(3, 4)"
      ]
     },
     "execution_count": 17,
     "metadata": {},
     "output_type": "execute_result"
    }
   ],
   "source": [
    "mm.shape"
   ]
  },
  {
   "cell_type": "code",
   "execution_count": 18,
   "metadata": {},
   "outputs": [
    {
     "data": {
      "text/plain": [
       "-1.0"
      ]
     },
     "execution_count": 18,
     "metadata": {},
     "output_type": "execute_result"
    }
   ],
   "source": [
    "mm[2,0]"
   ]
  },
  {
   "cell_type": "code",
   "execution_count": 19,
   "metadata": {},
   "outputs": [],
   "source": [
    "env, rewards = util_2DtoMDP(matrix)"
   ]
  },
  {
   "cell_type": "code",
   "execution_count": 20,
   "metadata": {},
   "outputs": [
    {
     "data": {
      "text/plain": [
       "(defaultdict(dict,\n",
       "             {(0, 0): {'down': {(1, 0): 1.0},\n",
       "               'right': {(0, 1): 1.0},\n",
       "               'stop': {(0, 0): 1.0}},\n",
       "              (0, 1): {'down': {(1, 1): 1.0},\n",
       "               'left': {(0, 0): 1.0},\n",
       "               'right': {(0, 2): 1.0},\n",
       "               'stop': {(0, 1): 1.0}},\n",
       "              (0, 2): {'down': {(1, 2): 1.0},\n",
       "               'left': {(0, 1): 1.0},\n",
       "               'right': {(0, 3): 1.0},\n",
       "               'stop': {(0, 2): 1.0}},\n",
       "              (0, 3): {'down': {(1, 3): 1.0},\n",
       "               'left': {(0, 2): 1.0},\n",
       "               'stop': {(0, 3): 1.0}},\n",
       "              (1, 0): {'down': {(2, 0): 1.0},\n",
       "               'right': {(1, 1): 1.0},\n",
       "               'stop': {(1, 0): 1.0},\n",
       "               'up': {(0, 0): 1.0}},\n",
       "              (1, 1): {'down': {(2, 1): 1.0},\n",
       "               'left': {(1, 0): 1.0},\n",
       "               'right': {(1, 2): 1.0},\n",
       "               'stop': {(1, 1): 1.0},\n",
       "               'up': {(0, 1): 1.0}},\n",
       "              (1, 2): {'down': {(2, 2): 1.0},\n",
       "               'left': {(1, 1): 1.0},\n",
       "               'right': {(1, 3): 1.0},\n",
       "               'stop': {(1, 2): 1.0},\n",
       "               'up': {(0, 2): 1.0}},\n",
       "              (1, 3): {'down': {(2, 3): 1.0},\n",
       "               'left': {(1, 2): 1.0},\n",
       "               'stop': {(1, 3): 1.0},\n",
       "               'up': {(0, 3): 1.0}},\n",
       "              (2, 0): {'right': {(2, 1): 1.0},\n",
       "               'stop': {(2, 0): 1.0},\n",
       "               'up': {(1, 0): 1.0}},\n",
       "              (2, 1): {'left': {(2, 0): 1.0},\n",
       "               'right': {(2, 2): 1.0},\n",
       "               'stop': {(2, 1): 1.0},\n",
       "               'up': {(1, 1): 1.0}},\n",
       "              (2, 2): {'left': {(2, 1): 1.0},\n",
       "               'right': {(2, 3): 1.0},\n",
       "               'stop': {(2, 2): 1.0},\n",
       "               'up': {(1, 2): 1.0}},\n",
       "              (2, 3): {'left': {(2, 2): 1.0},\n",
       "               'stop': {(2, 3): 1.0},\n",
       "               'up': {(1, 3): 1.0}}}),\n",
       " defaultdict(float,\n",
       "             {(0, 0): -0.10000000000000001,\n",
       "              (0, 1): -0.10000000000000001,\n",
       "              (0, 2): -0.10000000000000001,\n",
       "              (0, 3): -0.10000000000000001,\n",
       "              (1, 0): -0.10000000000000001,\n",
       "              (1, 1): -0.10000000000000001,\n",
       "              (1, 2): -0.10000000000000001,\n",
       "              (1, 3): -0.10000000000000001,\n",
       "              (2, 0): -1.0,\n",
       "              (2, 1): -0.10000000000000001,\n",
       "              (2, 2): -0.10000000000000001,\n",
       "              (2, 3): 1.0}))"
      ]
     },
     "execution_count": 20,
     "metadata": {},
     "output_type": "execute_result"
    }
   ],
   "source": [
    "env, rewards"
   ]
  },
  {
   "cell_type": "code",
   "execution_count": 22,
   "metadata": {},
   "outputs": [],
   "source": [
    "gridmodel = MarkovDecisionProcess(env, rewards)"
   ]
  },
  {
   "cell_type": "markdown",
   "metadata": {},
   "source": [
    "# Load Agent"
   ]
  },
  {
   "cell_type": "code",
   "execution_count": 23,
   "metadata": {
    "collapsed": true
   },
   "outputs": [],
   "source": [
    "from Agent.DecisionMaker import DecisionMaker"
   ]
  },
  {
   "cell_type": "code",
   "execution_count": 24,
   "metadata": {
    "collapsed": true
   },
   "outputs": [],
   "source": [
    "dm = DecisionMaker(model)"
   ]
  },
  {
   "cell_type": "code",
   "execution_count": 28,
   "metadata": {
    "scrolled": true
   },
   "outputs": [
    {
     "data": {
      "text/plain": [
       "({'A': 77.77674745942798, 'B': 88.53658222610669, 'End': 100.0},\n",
       " {'A': 'X', 'B': 'X', 'End': None})"
      ]
     },
     "execution_count": 28,
     "metadata": {},
     "output_type": "execute_result"
    }
   ],
   "source": [
    "dm.ValueIteration(discount=0.9,threshold=0.01)"
   ]
  },
  {
   "cell_type": "code",
   "execution_count": 29,
   "metadata": {
    "scrolled": true
   },
   "outputs": [
    {
     "data": {
      "text/plain": [
       "({'A': 77.77814901436685, 'B': 88.53658536585365, 'End': 100.0},\n",
       " {'A': 'X', 'B': 'X', 'End': None})"
      ]
     },
     "execution_count": 29,
     "metadata": {},
     "output_type": "execute_result"
    }
   ],
   "source": [
    "dm.ValueIteration(0.9,epoch=100000)"
   ]
  },
  {
   "cell_type": "code",
   "execution_count": null,
   "metadata": {
    "collapsed": true
   },
   "outputs": [],
   "source": [
    "Q,U,policy = dm.QLearning(initial_state='A', discount=0.9, Ne=5, Rplus=2, epoch=10000)"
   ]
  },
  {
   "cell_type": "code",
   "execution_count": null,
   "metadata": {},
   "outputs": [],
   "source": [
    "Q"
   ]
  },
  {
   "cell_type": "code",
   "execution_count": null,
   "metadata": {},
   "outputs": [],
   "source": [
    "U"
   ]
  },
  {
   "cell_type": "code",
   "execution_count": null,
   "metadata": {},
   "outputs": [],
   "source": [
    "policy"
   ]
  },
  {
   "cell_type": "code",
   "execution_count": null,
   "metadata": {},
   "outputs": [],
   "source": [
    "grid_dm = DecisionMaker(gridmodel)"
   ]
  },
  {
   "cell_type": "code",
   "execution_count": null,
   "metadata": {},
   "outputs": [],
   "source": [
    "grid_dm.ValueIteration(0.9,threshold=0.00001)"
   ]
  },
  {
   "cell_type": "code",
   "execution_count": null,
   "metadata": {},
   "outputs": [],
   "source": [
    "grid_dm.ValueIteration(0.9,epoch=100)"
   ]
  },
  {
   "cell_type": "code",
   "execution_count": null,
   "metadata": {
    "scrolled": false
   },
   "outputs": [],
   "source": [
    "grid_dm.QLearning((0,0), 0.9, Ne=5, Rplus=2,epoch=1000000)"
   ]
  },
  {
   "cell_type": "code",
   "execution_count": null,
   "metadata": {
    "collapsed": true
   },
   "outputs": [],
   "source": []
  }
 ],
 "metadata": {
  "kernelspec": {
   "display_name": "ml_py35",
   "language": "python",
   "name": "ml_py35"
  },
  "language_info": {
   "codemirror_mode": {
    "name": "ipython",
    "version": 3
   },
   "file_extension": ".py",
   "mimetype": "text/x-python",
   "name": "python",
   "nbconvert_exporter": "python",
   "pygments_lexer": "ipython3",
   "version": "3.5.4"
  }
 },
 "nbformat": 4,
 "nbformat_minor": 2
}
