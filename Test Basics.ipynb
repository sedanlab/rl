{
 "cells": [
  {
   "cell_type": "markdown",
   "metadata": {},
   "source": [
    "# Load Env"
   ]
  },
  {
   "cell_type": "code",
   "execution_count": 1,
   "metadata": {
    "collapsed": true
   },
   "outputs": [],
   "source": [
    "from Environment.Model import MarkovDecisionProcess, util_2DtoMDP"
   ]
  },
  {
   "cell_type": "code",
   "execution_count": 2,
   "metadata": {
    "collapsed": true
   },
   "outputs": [],
   "source": [
    "env = {\n",
    "    \"A\": {\n",
    "        \"X\": {\"A\":0.3, \"B\":0.7},\n",
    "        \"Y\": {\"A\":1.0}\n",
    "    },\n",
    "    \"B\": {\n",
    "        \"X\": {\"End\":0.8, \"B\":0.2},\n",
    "        \"Y\": {\"A\":1.0}\n",
    "    },\n",
    "    \"End\": {}\n",
    "}\n",
    "\n",
    "init_rewards = {\n",
    "    \"A\": 1,\n",
    "    \"B\": 0.6,\n",
    "    \"End\": 100\n",
    "}"
   ]
  },
  {
   "cell_type": "code",
   "execution_count": 3,
   "metadata": {
    "collapsed": true
   },
   "outputs": [],
   "source": [
    "model = MarkovDecisionProcess(env=env,rewards=init_rewards)"
   ]
  },
  {
   "cell_type": "code",
   "execution_count": 4,
   "metadata": {},
   "outputs": [
    {
     "data": {
      "text/plain": [
       "[(0.3, 'A'), (0.7, 'B')]"
      ]
     },
     "execution_count": 4,
     "metadata": {},
     "output_type": "execute_result"
    }
   ],
   "source": [
    "model.get_transition('A','X')"
   ]
  },
  {
   "cell_type": "code",
   "execution_count": 5,
   "metadata": {},
   "outputs": [
    {
     "data": {
      "text/plain": [
       "['A', 'B', 'End']"
      ]
     },
     "execution_count": 5,
     "metadata": {},
     "output_type": "execute_result"
    }
   ],
   "source": [
    "model.states"
   ]
  },
  {
   "cell_type": "code",
   "execution_count": 6,
   "metadata": {},
   "outputs": [
    {
     "data": {
      "text/plain": [
       "1"
      ]
     },
     "execution_count": 6,
     "metadata": {},
     "output_type": "execute_result"
    }
   ],
   "source": [
    "model.get_reward('A')"
   ]
  },
  {
   "cell_type": "code",
   "execution_count": 7,
   "metadata": {},
   "outputs": [
    {
     "data": {
      "text/plain": [
       "[None]"
      ]
     },
     "execution_count": 7,
     "metadata": {},
     "output_type": "execute_result"
    }
   ],
   "source": [
    "model.get_actions('End')"
   ]
  },
  {
   "cell_type": "code",
   "execution_count": 8,
   "metadata": {},
   "outputs": [
    {
     "data": {
      "text/plain": [
       "['End']"
      ]
     },
     "execution_count": 8,
     "metadata": {},
     "output_type": "execute_result"
    }
   ],
   "source": [
    "model.terminals"
   ]
  },
  {
   "cell_type": "code",
   "execution_count": 9,
   "metadata": {},
   "outputs": [],
   "source": [
    "matrix = [\n",
    "    [-0.1,-0.1,-0.1,-0.1],\n",
    "    [-0.1,-0.1,-0.1,-0.1],\n",
    "    [-1,-0.1,-0.1,1]\n",
    "]"
   ]
  },
  {
   "cell_type": "code",
   "execution_count": 10,
   "metadata": {
    "collapsed": true
   },
   "outputs": [],
   "source": [
    "import numpy as np"
   ]
  },
  {
   "cell_type": "code",
   "execution_count": 11,
   "metadata": {
    "collapsed": true
   },
   "outputs": [],
   "source": [
    "mm = np.asarray(matrix)"
   ]
  },
  {
   "cell_type": "code",
   "execution_count": 12,
   "metadata": {},
   "outputs": [
    {
     "data": {
      "text/plain": [
       "(3, 4)"
      ]
     },
     "execution_count": 12,
     "metadata": {},
     "output_type": "execute_result"
    }
   ],
   "source": [
    "mm.shape"
   ]
  },
  {
   "cell_type": "code",
   "execution_count": 13,
   "metadata": {},
   "outputs": [
    {
     "data": {
      "text/plain": [
       "-1.0"
      ]
     },
     "execution_count": 13,
     "metadata": {},
     "output_type": "execute_result"
    }
   ],
   "source": [
    "mm[2,0]"
   ]
  },
  {
   "cell_type": "code",
   "execution_count": 14,
   "metadata": {},
   "outputs": [],
   "source": [
    "env, rewards = util_2DtoMDP(matrix)"
   ]
  },
  {
   "cell_type": "code",
   "execution_count": 15,
   "metadata": {},
   "outputs": [
    {
     "data": {
      "text/plain": [
       "(defaultdict(dict,\n",
       "             {(0, 0): {'down': {(1, 0): 1.0},\n",
       "               'right': {(0, 1): 1.0},\n",
       "               'stop': {(0, 0): 1.0}},\n",
       "              (0, 1): {'down': {(1, 1): 1.0},\n",
       "               'left': {(0, 0): 1.0},\n",
       "               'right': {(0, 2): 1.0},\n",
       "               'stop': {(0, 1): 1.0}},\n",
       "              (0, 2): {'down': {(1, 2): 1.0},\n",
       "               'left': {(0, 1): 1.0},\n",
       "               'right': {(0, 3): 1.0},\n",
       "               'stop': {(0, 2): 1.0}},\n",
       "              (0, 3): {'down': {(1, 3): 1.0},\n",
       "               'left': {(0, 2): 1.0},\n",
       "               'stop': {(0, 3): 1.0}},\n",
       "              (1, 0): {'down': {(2, 0): 1.0},\n",
       "               'right': {(1, 1): 1.0},\n",
       "               'stop': {(1, 0): 1.0},\n",
       "               'up': {(0, 0): 1.0}},\n",
       "              (1, 1): {'down': {(2, 1): 1.0},\n",
       "               'left': {(1, 0): 1.0},\n",
       "               'right': {(1, 2): 1.0},\n",
       "               'stop': {(1, 1): 1.0},\n",
       "               'up': {(0, 1): 1.0}},\n",
       "              (1, 2): {'down': {(2, 2): 1.0},\n",
       "               'left': {(1, 1): 1.0},\n",
       "               'right': {(1, 3): 1.0},\n",
       "               'stop': {(1, 2): 1.0},\n",
       "               'up': {(0, 2): 1.0}},\n",
       "              (1, 3): {'down': {(2, 3): 1.0},\n",
       "               'left': {(1, 2): 1.0},\n",
       "               'stop': {(1, 3): 1.0},\n",
       "               'up': {(0, 3): 1.0}},\n",
       "              (2, 0): {'right': {(2, 1): 1.0},\n",
       "               'stop': {(2, 0): 1.0},\n",
       "               'up': {(1, 0): 1.0}},\n",
       "              (2, 1): {'left': {(2, 0): 1.0},\n",
       "               'right': {(2, 2): 1.0},\n",
       "               'stop': {(2, 1): 1.0},\n",
       "               'up': {(1, 1): 1.0}},\n",
       "              (2, 2): {'left': {(2, 1): 1.0},\n",
       "               'right': {(2, 3): 1.0},\n",
       "               'stop': {(2, 2): 1.0},\n",
       "               'up': {(1, 2): 1.0}},\n",
       "              (2, 3): {'left': {(2, 2): 1.0},\n",
       "               'stop': {(2, 3): 1.0},\n",
       "               'up': {(1, 3): 1.0}}}),\n",
       " defaultdict(float,\n",
       "             {(0, 0): -0.10000000000000001,\n",
       "              (0, 1): -0.10000000000000001,\n",
       "              (0, 2): -0.10000000000000001,\n",
       "              (0, 3): -0.10000000000000001,\n",
       "              (1, 0): -0.10000000000000001,\n",
       "              (1, 1): -0.10000000000000001,\n",
       "              (1, 2): -0.10000000000000001,\n",
       "              (1, 3): -0.10000000000000001,\n",
       "              (2, 0): -1.0,\n",
       "              (2, 1): -0.10000000000000001,\n",
       "              (2, 2): -0.10000000000000001,\n",
       "              (2, 3): 1.0}))"
      ]
     },
     "execution_count": 15,
     "metadata": {},
     "output_type": "execute_result"
    }
   ],
   "source": [
    "env, rewards"
   ]
  },
  {
   "cell_type": "code",
   "execution_count": 16,
   "metadata": {},
   "outputs": [],
   "source": [
    "gridmodel = MarkovDecisionProcess(env, rewards)"
   ]
  },
  {
   "cell_type": "markdown",
   "metadata": {},
   "source": [
    "# Load Agent"
   ]
  },
  {
   "cell_type": "code",
   "execution_count": 17,
   "metadata": {
    "collapsed": true
   },
   "outputs": [],
   "source": [
    "from Agent.DecisionMaker import DecisionMaker"
   ]
  },
  {
   "cell_type": "code",
   "execution_count": 18,
   "metadata": {
    "collapsed": true
   },
   "outputs": [],
   "source": [
    "dm = DecisionMaker(model)"
   ]
  },
  {
   "cell_type": "code",
   "execution_count": 19,
   "metadata": {
    "scrolled": true
   },
   "outputs": [
    {
     "data": {
      "text/plain": [
       "({'A': 77.77674745942798, 'B': 88.53658222610669, 'End': 100.0},\n",
       " {'A': 'X', 'B': 'X', 'End': None})"
      ]
     },
     "execution_count": 19,
     "metadata": {},
     "output_type": "execute_result"
    }
   ],
   "source": [
    "dm.ValueIteration(discount=0.9,threshold=0.01)"
   ]
  },
  {
   "cell_type": "code",
   "execution_count": 20,
   "metadata": {
    "scrolled": true
   },
   "outputs": [
    {
     "data": {
      "text/plain": [
       "({'A': 77.77814901436685, 'B': 88.53658536585365, 'End': 100.0},\n",
       " {'A': 'X', 'B': 'X', 'End': None})"
      ]
     },
     "execution_count": 20,
     "metadata": {},
     "output_type": "execute_result"
    }
   ],
   "source": [
    "dm.ValueIteration(0.9,epoch=100000)"
   ]
  },
  {
   "cell_type": "code",
   "execution_count": 21,
   "metadata": {
    "collapsed": true
   },
   "outputs": [],
   "source": [
    "Q,U,policy = dm.QLearning(initial_state='A', discount=0.9, Ne=5, Rplus=2, epoch=10000)"
   ]
  },
  {
   "cell_type": "code",
   "execution_count": 22,
   "metadata": {},
   "outputs": [
    {
     "data": {
      "text/plain": [
       "defaultdict(float,\n",
       "            {('A', 'X'): 4.586495497999105,\n",
       "             ('A', 'Y'): 1.3715695833333332,\n",
       "             ('B', 'X'): 2.1690499244848667,\n",
       "             ('B', 'Y'): 1.6399837072115568,\n",
       "             ('End', None): 1.048462333622274})"
      ]
     },
     "execution_count": 22,
     "metadata": {},
     "output_type": "execute_result"
    }
   ],
   "source": [
    "Q"
   ]
  },
  {
   "cell_type": "code",
   "execution_count": 23,
   "metadata": {},
   "outputs": [
    {
     "data": {
      "text/plain": [
       "defaultdict(<function Agent.DecisionMaker.DecisionMaker.QLearning.<locals>.<lambda>>,\n",
       "            {'A': 4.586495497999105,\n",
       "             'B': 2.1690499244848667,\n",
       "             'End': 1.048462333622274})"
      ]
     },
     "execution_count": 23,
     "metadata": {},
     "output_type": "execute_result"
    }
   ],
   "source": [
    "U"
   ]
  },
  {
   "cell_type": "code",
   "execution_count": 24,
   "metadata": {},
   "outputs": [
    {
     "data": {
      "text/plain": [
       "{'A': 'X', 'B': 'X', 'End': None}"
      ]
     },
     "execution_count": 24,
     "metadata": {},
     "output_type": "execute_result"
    }
   ],
   "source": [
    "policy"
   ]
  },
  {
   "cell_type": "code",
   "execution_count": 25,
   "metadata": {},
   "outputs": [],
   "source": [
    "grid_dm = DecisionMaker(gridmodel)"
   ]
  },
  {
   "cell_type": "code",
   "execution_count": 26,
   "metadata": {},
   "outputs": [
    {
     "data": {
      "text/plain": [
       "({(0, 0): 5.4953066475158261,\n",
       "  (0, 1): 6.2170166475158251,\n",
       "  (0, 2): 7.0189166475158231,\n",
       "  (0, 3): 7.9099166475158231,\n",
       "  (1, 0): 6.2170166475158251,\n",
       "  (1, 1): 7.0189166475158231,\n",
       "  (1, 2): 7.9099166475158231,\n",
       "  (1, 3): 8.8999166475158233,\n",
       "  (2, 0): 6.1189166475158228,\n",
       "  (2, 1): 7.9099166475158231,\n",
       "  (2, 2): 8.8999166475158233,\n",
       "  (2, 3): 9.999916647515823},\n",
       " {(0, 0): 'down',\n",
       "  (0, 1): 'down',\n",
       "  (0, 2): 'down',\n",
       "  (0, 3): 'down',\n",
       "  (1, 0): 'right',\n",
       "  (1, 1): 'down',\n",
       "  (1, 2): 'down',\n",
       "  (1, 3): 'down',\n",
       "  (2, 0): 'right',\n",
       "  (2, 1): 'right',\n",
       "  (2, 2): 'right',\n",
       "  (2, 3): 'stop'})"
      ]
     },
     "execution_count": 26,
     "metadata": {},
     "output_type": "execute_result"
    }
   ],
   "source": [
    "grid_dm.ValueIteration(0.9,threshold=0.00001)"
   ]
  },
  {
   "cell_type": "code",
   "execution_count": 27,
   "metadata": {},
   "outputs": [
    {
     "data": {
      "text/plain": [
       "({(0, 0): 5.4951243860111267,\n",
       "  (0, 1): 6.2168343860111275,\n",
       "  (0, 2): 7.0187343860111264,\n",
       "  (0, 3): 7.9097343860111273,\n",
       "  (1, 0): 6.2168343860111275,\n",
       "  (1, 1): 7.0187343860111264,\n",
       "  (1, 2): 7.9097343860111273,\n",
       "  (1, 3): 8.8997343860111275,\n",
       "  (2, 0): 6.1187343860111261,\n",
       "  (2, 1): 7.9097343860111273,\n",
       "  (2, 2): 8.8997343860111275,\n",
       "  (2, 3): 9.9997343860111272},\n",
       " {(0, 0): 'down',\n",
       "  (0, 1): 'down',\n",
       "  (0, 2): 'down',\n",
       "  (0, 3): 'down',\n",
       "  (1, 0): 'right',\n",
       "  (1, 1): 'down',\n",
       "  (1, 2): 'down',\n",
       "  (1, 3): 'down',\n",
       "  (2, 0): 'right',\n",
       "  (2, 1): 'right',\n",
       "  (2, 2): 'right',\n",
       "  (2, 3): 'stop'})"
      ]
     },
     "execution_count": 27,
     "metadata": {},
     "output_type": "execute_result"
    }
   ],
   "source": [
    "grid_dm.ValueIteration(0.9,epoch=100)"
   ]
  },
  {
   "cell_type": "code",
   "execution_count": 28,
   "metadata": {
    "scrolled": false
   },
   "outputs": [
    {
     "data": {
      "text/plain": [
       "(defaultdict(float,\n",
       "             {((0, 0), 'down'): -0.097142857142857156,\n",
       "              ((0, 0), 'right'): -0.085714285714285729,\n",
       "              ((0, 0), 'stop'): -0.12808333333333333,\n",
       "              ((0, 1), 'down'): -0.096428571428571433,\n",
       "              ((0, 1), 'left'): -0.096734693877551028,\n",
       "              ((0, 1), 'right'): -0.083333333333333343,\n",
       "              ((0, 1), 'stop'): -0.12808333333333333,\n",
       "              ((0, 2), 'down'): -0.083333333333333343,\n",
       "              ((0, 2), 'left'): -0.083333333333333343,\n",
       "              ((0, 2), 'right'): 0.0,\n",
       "              ((0, 2), 'stop'): 0.0,\n",
       "              ((0, 3), 'down'): 0.47137297916666659,\n",
       "              ((0, 3), 'left'): 0.0,\n",
       "              ((0, 3), 'stop'): 0.0,\n",
       "              ((1, 0), 'down'): -0.49083333333333334,\n",
       "              ((1, 0), 'right'): -0.096875000000000017,\n",
       "              ((1, 0), 'stop'): -0.12808333333333333,\n",
       "              ((1, 0), 'up'): -0.096428571428571433,\n",
       "              ((1, 1), 'down'): -0.096428571428571433,\n",
       "              ((1, 1), 'left'): -0.096428571428571433,\n",
       "              ((1, 1), 'right'): -0.085714285714285729,\n",
       "              ((1, 1), 'stop'): -0.12808333333333333,\n",
       "              ((1, 1), 'up'): -0.096428571428571433,\n",
       "              ((1, 2), 'down'): -0.083333333333333343,\n",
       "              ((1, 2), 'left'): -0.083333333333333343,\n",
       "              ((1, 2), 'right'): 0.38974826785714284,\n",
       "              ((1, 2), 'stop'): 0.18699045416666668,\n",
       "              ((1, 2), 'up'): -0.083333333333333343,\n",
       "              ((1, 3), 'down'): 0.79600901785714273,\n",
       "              ((1, 3), 'left'): 0.08059565279166668,\n",
       "              ((1, 3), 'stop'): 0.47137297916666659,\n",
       "              ((1, 3), 'up'): 0.14716805347916664,\n",
       "              ((2, 0), 'right'): -0.86785714285714288,\n",
       "              ((2, 0), 'stop'): -0.9642857142857143,\n",
       "              ((2, 0), 'up'): -0.83333333333333337,\n",
       "              ((2, 1), 'left'): -0.19285714285714284,\n",
       "              ((2, 1), 'right'): -0.083333333333333343,\n",
       "              ((2, 1), 'stop'): -0.096428571428571433,\n",
       "              ((2, 1), 'up'): -0.096428571428571433,\n",
       "              ((2, 2), 'left'): -0.12408333333333334,\n",
       "              ((2, 2), 'right'): 0.94534385416666666,\n",
       "              ((2, 2), 'stop'): -0.083333333333333343,\n",
       "              ((2, 2), 'up'): -0.083333333333333343,\n",
       "              ((2, 3), 'left'): 1.2956064780208334,\n",
       "              ((2, 3), 'stop'): 7.3881973051027092,\n",
       "              ((2, 3), 'up'): 1.1764233102083332}),\n",
       " defaultdict(<function Agent.DecisionMaker.DecisionMaker.QLearning.<locals>.<lambda>>,\n",
       "             {(0, 0): -0.085714285714285729,\n",
       "              (0, 1): -0.083333333333333343,\n",
       "              (0, 2): 0.0,\n",
       "              (0, 3): 0.47137297916666659,\n",
       "              (1, 0): -0.096428571428571433,\n",
       "              (1, 1): -0.085714285714285729,\n",
       "              (1, 2): 0.38974826785714284,\n",
       "              (1, 3): 0.79600901785714273,\n",
       "              (2, 0): -0.83333333333333337,\n",
       "              (2, 1): -0.083333333333333343,\n",
       "              (2, 2): 0.94534385416666666,\n",
       "              (2, 3): 7.3881973051027092}),\n",
       " {(0, 0): 'down',\n",
       "  (0, 1): 'down',\n",
       "  (0, 2): 'left',\n",
       "  (0, 3): 'left',\n",
       "  (1, 0): 'down',\n",
       "  (1, 1): 'left',\n",
       "  (1, 2): 'left',\n",
       "  (1, 3): 'left',\n",
       "  (2, 0): 'stop',\n",
       "  (2, 1): 'left',\n",
       "  (2, 2): 'left',\n",
       "  (2, 3): 'up'})"
      ]
     },
     "execution_count": 28,
     "metadata": {},
     "output_type": "execute_result"
    }
   ],
   "source": [
    "grid_dm.QLearning((0,0), 0.9, Ne=5, Rplus=2,epoch=1000000)"
   ]
  },
  {
   "cell_type": "code",
   "execution_count": null,
   "metadata": {
    "collapsed": true
   },
   "outputs": [],
   "source": []
  }
 ],
 "metadata": {
  "kernelspec": {
   "display_name": "ml_py35",
   "language": "python",
   "name": "ml_py35"
  },
  "language_info": {
   "codemirror_mode": {
    "name": "ipython",
    "version": 3
   },
   "file_extension": ".py",
   "mimetype": "text/x-python",
   "name": "python",
   "nbconvert_exporter": "python",
   "pygments_lexer": "ipython3",
   "version": "3.5.4"
  }
 },
 "nbformat": 4,
 "nbformat_minor": 2
}
