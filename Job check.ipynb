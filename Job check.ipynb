{
 "cells": [
  {
   "cell_type": "code",
   "execution_count": 17,
   "metadata": {
    "collapsed": true
   },
   "outputs": [],
   "source": [
    "EXAMPLE_JOB = (\n",
    "    {\n",
    "        \"name\" : 'eagle',\n",
    "        \"job\" : {'3DP': 300}, # single job\n",
    "        \"count\" : 1\n",
    "    },\n",
    "    {\n",
    "        \"name\" : 'box',\n",
    "        \"job\" : ({'3DP': 300}, {'3DP': 300}), # parallel job\n",
    "        \"count\" : 2\n",
    "    },\n",
    "    {\n",
    "        \"name\" : 'clock',\n",
    "        \"job\" : [ # job shop\n",
    "            (\n",
    "                (\n",
    "                    [{'3DP': 200},{'CNC':10}],\n",
    "                    [{'3DP': 200},{'CNC':5}]\n",
    "                ),\n",
    "                {'3DP': 100}\n",
    "            ),\n",
    "            {'CNC' : 10},\n",
    "            {'Vapor' : 5}\n",
    "        ],\n",
    "        \"count\" : 2\n",
    "    }\n",
    ")"
   ]
  },
  {
   "cell_type": "code",
   "execution_count": 18,
   "metadata": {
    "collapsed": true
   },
   "outputs": [],
   "source": [
    "def job_reader(job_tree):\n",
    "    if isinstance(job_tree, dict):\n",
    "        job_reader.sequence.append(job_tree)\n",
    "        return job_tree\n",
    "    elif isinstance(job_tree, tuple):\n",
    "        tt = list(map(tuple, zip(*map(job_reader, job_tree))))\n",
    "        job_reader.sequence.append('<assem>')\n",
    "        return tt\n",
    "    elif isinstance(job_tree, list):\n",
    "        tt= list(map(list, zip(*map(job_reader, job_tree))))\n",
    "        job_reader.sequence.append('<flow>')\n",
    "        return tt\n",
    "    else:\n",
    "        raise ValueError(\"Unknown job\")"
   ]
  },
  {
   "cell_type": "code",
   "execution_count": 19,
   "metadata": {
    "collapsed": true
   },
   "outputs": [],
   "source": [
    "job_reader.sequence = []"
   ]
  },
  {
   "cell_type": "code",
   "execution_count": 20,
   "metadata": {},
   "outputs": [
    {
     "data": {
      "text/plain": [
       "[[((['3DP', 'CNC'], ['3DP', 'CNC']), '3DP'), 'CNC', 'Vapor']]"
      ]
     },
     "execution_count": 20,
     "metadata": {},
     "output_type": "execute_result"
    }
   ],
   "source": [
    "job_reader(EXAMPLE_JOB[2]['job'])"
   ]
  },
  {
   "cell_type": "code",
   "execution_count": 21,
   "metadata": {},
   "outputs": [
    {
     "data": {
      "text/plain": [
       "[{'3DP': 200},\n",
       " {'CNC': 10},\n",
       " '<flow>',\n",
       " {'3DP': 200},\n",
       " {'CNC': 5},\n",
       " '<flow>',\n",
       " '<assem>',\n",
       " {'3DP': 100},\n",
       " '<assem>',\n",
       " {'CNC': 10},\n",
       " {'Vapor': 5},\n",
       " '<flow>']"
      ]
     },
     "execution_count": 21,
     "metadata": {},
     "output_type": "execute_result"
    }
   ],
   "source": [
    "job_reader.sequence"
   ]
  },
  {
   "cell_type": "code",
   "execution_count": null,
   "metadata": {
    "collapsed": true
   },
   "outputs": [],
   "source": []
  }
 ],
 "metadata": {
  "kernelspec": {
   "display_name": "Python [conda env:ml_py35]",
   "language": "python",
   "name": "conda-env-ml_py35-py"
  },
  "language_info": {
   "codemirror_mode": {
    "name": "ipython",
    "version": 3
   },
   "file_extension": ".py",
   "mimetype": "text/x-python",
   "name": "python",
   "nbconvert_exporter": "python",
   "pygments_lexer": "ipython3",
   "version": "3.5.4"
  }
 },
 "nbformat": 4,
 "nbformat_minor": 2
}
